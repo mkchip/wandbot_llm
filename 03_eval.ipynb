{
 "cells": [
  {
   "cell_type": "markdown",
   "id": "06b51893-b4b7-44bc-9df4-61d1ac87ce2c",
   "metadata": {
    "tags": []
   },
   "source": [
    "# Eval using VLLM"
   ]
  },
  {
   "cell_type": "code",
   "execution_count": null,
   "id": "ae190a22-05ce-4df5-9c54-830f68557c98",
   "metadata": {},
   "outputs": [],
   "source": [
    "import wandb\n",
    "from datasets import load_from_disk"
   ]
  },
  {
   "cell_type": "code",
   "execution_count": null,
   "id": "dd06415f-d134-4041-9326-eaa04fe2d06c",
   "metadata": {
    "tags": []
   },
   "outputs": [],
   "source": [
    "def load_from_artifact(at_address, at_type=\"dataset\"):\n",
    "    \"Load a HF dataset from a W&B artifact\"\n",
    "    artifact = wandb.use_artifact(at_address, type=at_type)\n",
    "    artifact_dir = artifact.download()\n",
    "    return load_from_disk(artifact_dir)"
   ]
  },
  {
   "cell_type": "code",
   "execution_count": null,
   "id": "8dd2e9df-c4ba-4185-b82a-ee3647dc8fcb",
   "metadata": {
    "tags": []
   },
   "outputs": [],
   "source": [
    "model_folder = \"64yqh828_codellama7\"\n",
    "EVAL_DATASET_AT = 'capecape/wandbot_llm/wandbot_eval_dataset:latest'"
   ]
  },
  {
   "cell_type": "code",
   "execution_count": null,
   "id": "2c87dbc4-b657-4543-834d-3f44429f5cb9",
   "metadata": {
    "tags": []
   },
   "outputs": [],
   "source": [
    "WANDB_PROJECT = \"wandbot_llm\""
   ]
  },
  {
   "cell_type": "code",
   "execution_count": null,
   "id": "1238100d-cb74-4860-88ed-9e395da38680",
   "metadata": {
    "tags": []
   },
   "outputs": [
    {
     "name": "stderr",
     "output_type": "stream",
     "text": [
      "\u001b[34m\u001b[1mwandb\u001b[0m: Currently logged in as: \u001b[33mcapecape\u001b[0m. Use \u001b[1m`wandb login --relogin`\u001b[0m to force relogin\n"
     ]
    },
    {
     "data": {
      "text/html": [
       "Tracking run with wandb version 0.15.12"
      ],
      "text/plain": [
       "<IPython.core.display.HTML object>"
      ]
     },
     "metadata": {},
     "output_type": "display_data"
    },
    {
     "data": {
      "text/html": [
       "Run data is saved locally in <code>/home/ubuntu/cape/wandbot_llm/wandb/run-20231018_200029-awgbahd8</code>"
      ],
      "text/plain": [
       "<IPython.core.display.HTML object>"
      ]
     },
     "metadata": {},
     "output_type": "display_data"
    },
    {
     "data": {
      "text/html": [
       "Syncing run <strong><a href='https://wandb.ai/capecape/wandbot_llm/runs/awgbahd8' target=\"_blank\">chocolate-armadillo-28</a></strong> to <a href='https://wandb.ai/capecape/wandbot_llm' target=\"_blank\">Weights & Biases</a> (<a href='https://wandb.me/run' target=\"_blank\">docs</a>)<br/>"
      ],
      "text/plain": [
       "<IPython.core.display.HTML object>"
      ]
     },
     "metadata": {},
     "output_type": "display_data"
    },
    {
     "data": {
      "text/html": [
       " View project at <a href='https://wandb.ai/capecape/wandbot_llm' target=\"_blank\">https://wandb.ai/capecape/wandbot_llm</a>"
      ],
      "text/plain": [
       "<IPython.core.display.HTML object>"
      ]
     },
     "metadata": {},
     "output_type": "display_data"
    },
    {
     "data": {
      "text/html": [
       " View run at <a href='https://wandb.ai/capecape/wandbot_llm/runs/awgbahd8' target=\"_blank\">https://wandb.ai/capecape/wandbot_llm/runs/awgbahd8</a>"
      ],
      "text/plain": [
       "<IPython.core.display.HTML object>"
      ]
     },
     "metadata": {},
     "output_type": "display_data"
    }
   ],
   "source": [
    "run = wandb.init(project=WANDB_PROJECT, job_type=\"vllm\")"
   ]
  },
  {
   "cell_type": "code",
   "execution_count": null,
   "id": "ff19de6f-d5ea-4143-bcab-1a28c8a47c4a",
   "metadata": {
    "tags": []
   },
   "outputs": [],
   "source": [
    "from vllm import LLM, SamplingParams"
   ]
  },
  {
   "cell_type": "code",
   "execution_count": null,
   "id": "f5a1245c-f458-4117-b448-807badc92f3f",
   "metadata": {
    "tags": []
   },
   "outputs": [
    {
     "name": "stdout",
     "output_type": "stream",
     "text": [
      "INFO 10-18 20:00:30 llm_engine.py:72] Initializing an LLM engine with config: model='64yqh828_codellama7', tokenizer='64yqh828_codellama7', tokenizer_mode=auto, revision=None, tokenizer_revision=None, trust_remote_code=False, dtype=torch.bfloat16, max_seq_len=16384, download_dir=None, load_format=auto, tensor_parallel_size=1, quantization=None, seed=0)\n",
      "INFO 10-18 20:00:30 tokenizer.py:31] For some LLaMA V1 models, initializing the fast tokenizer may take a long time. To reduce the initialization time, consider using 'hf-internal-testing/llama-tokenizer' instead of the original tokenizer.\n"
     ]
    },
    {
     "name": "stderr",
     "output_type": "stream",
     "text": [
      "Special tokens have been added in the vocabulary, make sure the associated word embeddings are fine-tuned or trained.\n"
     ]
    },
    {
     "name": "stdout",
     "output_type": "stream",
     "text": [
      "INFO 10-18 20:00:37 llm_engine.py:207] # GPU blocks: 739, # CPU blocks: 512\n"
     ]
    }
   ],
   "source": [
    "llm = LLM(model=model_folder)"
   ]
  },
  {
   "cell_type": "code",
   "execution_count": null,
   "id": "7e58975f-9ae7-4cfa-8643-af2fbadf5f2c",
   "metadata": {
    "tags": []
   },
   "outputs": [
    {
     "name": "stderr",
     "output_type": "stream",
     "text": [
      "\u001b[34m\u001b[1mwandb\u001b[0m:   4 of 4 files downloaded.  \n"
     ]
    }
   ],
   "source": [
    "eval_ds = load_from_artifact(EVAL_DATASET_AT)\n",
    "eval_ds = eval_ds[\"train\"]"
   ]
  },
  {
   "cell_type": "code",
   "execution_count": null,
   "id": "40ab32b2-ebab-46a7-96ed-7cd4d1715a66",
   "metadata": {
    "tags": []
   },
   "outputs": [],
   "source": [
    "max_new_tokens = 512\n",
    "sampling_params = SamplingParams(temperature=0.8, top_p=0.95, max_tokens=max_new_tokens)"
   ]
  },
  {
   "cell_type": "code",
   "execution_count": null,
   "id": "90e48f2f-dbe8-460e-93ad-60d4aae37e2a",
   "metadata": {},
   "outputs": [],
   "source": [
    "prompts = [sample[\"text\"] for sample in eval_ds]"
   ]
  },
  {
   "cell_type": "code",
   "execution_count": null,
   "id": "dd71d918-cce5-45dd-84b5-798bed401429",
   "metadata": {},
   "outputs": [
    {
     "data": {
      "text/plain": [
       "[10579,\n",
       " 10469,\n",
       " 8882,\n",
       " 10431,\n",
       " 8749,\n",
       " 10198,\n",
       " 10174,\n",
       " 10348,\n",
       " 10234,\n",
       " 9650,\n",
       " 10379,\n",
       " 10402,\n",
       " 10029,\n",
       " 10091,\n",
       " 9442,\n",
       " 9709,\n",
       " 9195,\n",
       " 10209,\n",
       " 10277,\n",
       " 9074,\n",
       " 9651,\n",
       " 9998,\n",
       " 8772,\n",
       " 10131,\n",
       " 8975,\n",
       " 9456,\n",
       " 9897,\n",
       " 9503,\n",
       " 9656,\n",
       " 11637,\n",
       " 10527,\n",
       " 8915,\n",
       " 9451,\n",
       " 8722,\n",
       " 9895,\n",
       " 8831,\n",
       " 9308,\n",
       " 9776,\n",
       " 10325,\n",
       " 10324,\n",
       " 10026,\n",
       " 10123,\n",
       " 10197,\n",
       " 9554,\n",
       " 9762,\n",
       " 10710,\n",
       " 8324,\n",
       " 9975,\n",
       " 8661,\n",
       " 10323,\n",
       " 9445,\n",
       " 10325,\n",
       " 10054,\n",
       " 10328,\n",
       " 10091,\n",
       " 9369,\n",
       " 10255,\n",
       " 9732,\n",
       " 10186,\n",
       " 9309,\n",
       " 10267,\n",
       " 9887,\n",
       " 10687,\n",
       " 9162,\n",
       " 8552,\n",
       " 9981,\n",
       " 9384,\n",
       " 9895,\n",
       " 9735,\n",
       " 9525,\n",
       " 8621,\n",
       " 9534,\n",
       " 10187,\n",
       " 10269,\n",
       " 10301,\n",
       " 10465,\n",
       " 7216,\n",
       " 9650,\n",
       " 10248,\n",
       " 10133,\n",
       " 8186,\n",
       " 9668,\n",
       " 9495,\n",
       " 8558,\n",
       " 10287,\n",
       " 10188,\n",
       " 9297,\n",
       " 10365,\n",
       " 9998,\n",
       " 10299,\n",
       " 9746,\n",
       " 8660,\n",
       " 10283,\n",
       " 10595,\n",
       " 10113,\n",
       " 9924,\n",
       " 9914,\n",
       " 10344,\n",
       " 10162,\n",
       " 9519,\n",
       " 8588,\n",
       " 9309,\n",
       " 9968,\n",
       " 9369,\n",
       " 10204,\n",
       " 9506,\n",
       " 9912,\n",
       " 10441,\n",
       " 10033,\n",
       " 9999,\n",
       " 10077,\n",
       " 7328,\n",
       " 9814,\n",
       " 10473,\n",
       " 9852,\n",
       " 9494,\n",
       " 8090,\n",
       " 11143,\n",
       " 10234,\n",
       " 10030,\n",
       " 10083,\n",
       " 10307,\n",
       " 10131,\n",
       " 9639,\n",
       " 10160,\n",
       " 9401,\n",
       " 10235,\n",
       " 9334,\n",
       " 10294,\n",
       " 8577,\n",
       " 9837,\n",
       " 10410]"
      ]
     },
     "execution_count": 11,
     "metadata": {},
     "output_type": "execute_result"
    }
   ],
   "source": [
    "[len(p) for p in prompts]"
   ]
  },
  {
   "cell_type": "code",
   "execution_count": null,
   "id": "e99fab7b-32d3-482e-a0ad-55b39a086a04",
   "metadata": {},
   "outputs": [
    {
     "name": "stderr",
     "output_type": "stream",
     "text": [
      "Processed prompts: 100%|██████████| 132/132 [11:23<00:00,  5.18s/it]\n"
     ]
    }
   ],
   "source": [
    "outputs = llm.generate(prompts, sampling_params)"
   ]
  },
  {
   "cell_type": "code",
   "execution_count": null,
   "id": "e555fa80-cdde-488d-8642-682dc2621968",
   "metadata": {
    "tags": []
   },
   "outputs": [],
   "source": [
    "generations = [[sample, output.outputs[0].text] for sample, output in zip(eval_ds, outputs)]"
   ]
  },
  {
   "cell_type": "code",
   "execution_count": null,
   "id": "33bb1cbf-10e6-449c-b8b8-fa2bde63a3e4",
   "metadata": {
    "tags": []
   },
   "outputs": [
    {
     "data": {
      "text/plain": [
       "132"
      ]
     },
     "execution_count": 14,
     "metadata": {},
     "output_type": "execute_result"
    }
   ],
   "source": [
    "len(generations)"
   ]
  },
  {
   "cell_type": "code",
   "execution_count": null,
   "id": "b12722bc-875f-41e1-94bd-754cbfcff95e",
   "metadata": {
    "tags": []
   },
   "outputs": [],
   "source": [
    "originals_cols = list(generations[0][0].keys())\n",
    "table = wandb.Table(columns=originals_cols+[\"codellama7\", \"max_tokens\"])\n",
    "for gen in generations:\n",
    "    d, code_answer = gen\n",
    "    table.add_data(*d.values(), code_answer, max_new_tokens)"
   ]
  },
  {
   "cell_type": "code",
   "execution_count": null,
   "id": "eb1f4f15-66b8-466c-b292-8c59314d189e",
   "metadata": {
    "tags": []
   },
   "outputs": [
    {
     "name": "stderr",
     "output_type": "stream",
     "text": [
      "\u001b[34m\u001b[1mwandb\u001b[0m: \u001b[33mWARNING\u001b[0m Serializing object of type str that is 146228 bytes\n"
     ]
    }
   ],
   "source": [
    "wandb.log({\"generations\": table})"
   ]
  },
  {
   "cell_type": "code",
   "execution_count": null,
   "id": "69a71126-1991-4fa2-8bbc-6648246c321a",
   "metadata": {
    "tags": []
   },
   "outputs": [
    {
     "data": {
      "text/html": [
       "Waiting for W&B process to finish... <strong style=\"color:green\">(success).</strong>"
      ],
      "text/plain": [
       "<IPython.core.display.HTML object>"
      ]
     },
     "metadata": {},
     "output_type": "display_data"
    },
    {
     "data": {
      "text/html": [
       " View run <strong style=\"color:#cdcd00\">chocolate-armadillo-28</strong> at: <a href='https://wandb.ai/capecape/wandbot_llm/runs/awgbahd8' target=\"_blank\">https://wandb.ai/capecape/wandbot_llm/runs/awgbahd8</a><br/>Synced 6 W&B file(s), 1 media file(s), 1 artifact file(s) and 1 other file(s)"
      ],
      "text/plain": [
       "<IPython.core.display.HTML object>"
      ]
     },
     "metadata": {},
     "output_type": "display_data"
    },
    {
     "data": {
      "text/html": [
       "Find logs at: <code>./wandb/run-20231018_200029-awgbahd8/logs</code>"
      ],
      "text/plain": [
       "<IPython.core.display.HTML object>"
      ]
     },
     "metadata": {},
     "output_type": "display_data"
    }
   ],
   "source": [
    "wandb.finish()"
   ]
  }
 ],
 "metadata": {
  "kernelspec": {
   "display_name": "Python 3",
   "language": "python",
   "name": "python3"
  },
  "language_info": {
   "codemirror_mode": {
    "name": "ipython",
    "version": 3
   },
   "file_extension": ".py",
   "mimetype": "text/x-python",
   "name": "python",
   "nbconvert_exporter": "python",
   "pygments_lexer": "ipython3",
   "version": "3.8.10"
  }
 },
 "nbformat": 4,
 "nbformat_minor": 5
}
